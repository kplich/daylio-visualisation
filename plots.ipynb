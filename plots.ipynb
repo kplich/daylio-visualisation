{
 "cells": [
  {
   "cell_type": "code",
   "execution_count": 1,
   "metadata": {},
   "outputs": [],
   "source": [
    "import csv\n",
    "import numpy as np\n",
    "import matplotlib.pyplot as plt\n",
    "import matplotlib.dates as mdates\n",
    "from datetime import date"
   ]
  },
  {
   "cell_type": "code",
   "execution_count": 2,
   "metadata": {},
   "outputs": [],
   "source": [
    "# Date conversion methods from different languages to a datetime object\n",
    "\n",
    "# Date conversion from Polish Daylio format to a datetime object\n",
    "def get_date_from_polish(year, day_month):\n",
    "    day, month = day_month.split(' ')\n",
    "    \n",
    "    month_dict = {\"stycznia\": 1, \"lutego\": 2, \"marca\": 3, \"kwietnia\": 4, \"maja\": 5, \"czerwca\": 6, \"lipca\": 7,\n",
    "                  \"sierpnia\": 8, \"września\": 9, \"października\": 10, \"listopada\": 11, \"grudnia\": 12}\n",
    "    \n",
    "    return date(int(year), month_dict.get(month), int(day))\n",
    "\n",
    "# Date conversion from English Daylio format to a datetime object\n",
    "def get_date_from_english(year, day_month):\n",
    "    month, day = day_month.split(' ')\n",
    "        \n",
    "    month_dict = {'January': 1, 'February': 2, 'March': 3, 'April': 4, 'May': 5, 'June': 6, 'July': 7, 'August': 8,\n",
    "                  'September': 9, 'October': 10, 'November': 11, 'December': 12}\n",
    "\n",
    "    return date( int(year), month_dict.get(month), int(day))"
   ]
  },
  {
   "cell_type": "code",
   "execution_count": 3,
   "metadata": {},
   "outputs": [],
   "source": [
    "# Extract only the relevant data from the entry - year, date and rating.\n",
    "def extract_data_from_row(row):\n",
    "    return row[0], row[1], row[4]"
   ]
  },
  {
   "cell_type": "code",
   "execution_count": 4,
   "metadata": {},
   "outputs": [],
   "source": [
    "# Conversion from regular data string in the format YYYY-MM-DD.\n",
    "def convert_simply_into_date(string):\n",
    "    year, month, day = string.split('-')\n",
    "    return date(int(year), int(month), int(day))"
   ]
  },
  {
   "cell_type": "code",
   "execution_count": 5,
   "metadata": {},
   "outputs": [
    {
     "name": "stdout",
     "output_type": "stream",
     "text": [
      "['okropnie', '1', '1.0', '1.5', 'red']\n",
      "['źle', '2', '1.5', '2.25', 'salmon']\n",
      "['tak sobie', '2.5', '2.25', '2.75', 'lightblue']\n",
      "['bywało gorzej', '3', '2.75', '3.25', 'turquoise']\n",
      "['nieźle', '3.5', '3.25', '3.75', 'seagreen']\n",
      "['dobrze', '4', '3.75', '4.25', 'darkslategray']\n",
      "['wspaniale', '5', '4.25', '5.0', 'darkblue']\n",
      "['\\ufeffyear', 'date', 'weekday', 'time', 'mood', 'activities', 'note']\n",
      "['2017', '7 września', 'czwartek', '12:10', 'dobrze', '', '']\n",
      "['2017', '6 września', 'środa', '12:09', 'źle', '', '']\n",
      "['2017', '5 września', 'wtorek', '12:09', 'wspaniale', '', '']\n",
      "['2017', '4 września', 'poniedziałek', '12:07', 'tak sobie', '', '']\n",
      "['2017', '3 września', 'niedziela', '12:06', 'wspaniale', '', '']\n",
      "['2017', '2 września', 'sobota', '23:42', 'wspaniale', '', '']\n",
      "['2017', '1 września', 'piątek', '07:44', 'okropnie', '', '']\n",
      "['2017', '31 sierpnia', 'czwartek', '12:00', 'dobrze', '', '']\n",
      "['2017', '30 sierpnia', 'środa', '23:58', 'tak sobie', '', '']\n",
      "['2017', '29 sierpnia', 'wtorek', '23:33', 'dobrze', '']\n",
      "['2017', '28 sierpnia', 'poniedziałek', '23:21', 'dobrze', '', '']\n",
      "['2017', '27 sierpnia', 'niedziela', '23:24', 'dobrze', '', '']\n",
      "['2017', '26 sierpnia', 'sobota', '22:53', 'wspaniale', '', '']\n",
      "['2017', '25 sierpnia', 'piątek', '23:59', 'wspaniale', '', '']\n",
      "['2017', '24 sierpnia', 'czwartek', '23:56', 'wspaniale', '', '']\n",
      "['2017', '23 sierpnia', 'środa', '22:24', 'tak sobie', '', '']\n",
      "['2017', '22 sierpnia', 'wtorek', '20:00', 'tak sobie', '', '']\n",
      "['2017', '21 sierpnia', 'poniedziałek', '20:00', 'wspaniale', '', '']\n",
      "['2017', '20 sierpnia', 'niedziela', '23:30', 'wspaniale', '', '']\n",
      "['2017', '19 sierpnia', 'sobota', '20:00', 'dobrze', '', '']\n",
      "['2017', '18 sierpnia', 'piątek', '20:00', 'wspaniale', '', '']\n",
      "['2017-09-02', ' event 3']\n",
      "['2017-08-25', ' event 2']\n",
      "['2017-08-17', ' event 1']\n"
     ]
    }
   ],
   "source": [
    "lang_dict = {'pl': get_date_from_polish, 'en': get_date_from_english}\n",
    "\n",
    "entries = []\n",
    "events = {}\n",
    "moods = {}\n",
    "locale = 'pl'\n",
    "\n",
    "# Read the moods\n",
    "with open(\"moods.csv\", encoding=\"utf-8\") as csv_file:\n",
    "    csv_reader = csv.reader(csv_file)\n",
    "    for row in csv_reader:\n",
    "        print(row)\n",
    "        description = row[0]\n",
    "        value = float(row[1])\n",
    "        lo = float(row[2])\n",
    "        hi = float(row[3])\n",
    "        color = row[4]\n",
    "        moods[description] = value, lo, hi, color\n",
    "\n",
    "# Read the entries\n",
    "with open(\"daylio_export.csv\", encoding=\"utf-8\") as csv_file:\n",
    "    csv_reader = csv.reader(csv_file)\n",
    "    for row in csv_reader:\n",
    "        print(row)\n",
    "        if \"date\" not in row:\n",
    "            year, day_month, mood = extract_data_from_row(row)\n",
    "            entry_date = (lang_dict.get(locale))(year, day_month)\n",
    "            mood_value = moods.get(mood)[0]\n",
    "            entries.append(tuple([entry_date, mood_value]))\n",
    "\n",
    "# Read events\n",
    "with open(\"events.csv\", encoding=\"utf=8\") as csv_file:\n",
    "    csv_reader = csv.reader(csv_file)\n",
    "    for row in csv_reader:\n",
    "        print(row)\n",
    "        event_date = convert_simply_into_date(row[0])\n",
    "        event = row[1]\n",
    "        events[event_date] = event\n",
    "        \n",
    "dates, ratings = zip(*entries)\n",
    "dates = list(dates)\n",
    "dates.reverse()\n",
    "ratings = list(ratings)"
   ]
  },
  {
   "cell_type": "code",
   "execution_count": 6,
   "metadata": {},
   "outputs": [],
   "source": [
    "# Methods for convolution kernels\n",
    "\n",
    "# Returns a kernel with a given length and whose values are a reciprocal of this length (they sum up to 1)\n",
    "def N_day_average_kernel(days):\n",
    "    return [1/days for i in range(0, days)]\n",
    "\n",
    "# Returns a kernel whose values are weighted according to the values passed by the user.\n",
    "def custom_kernel(days_and_weights):\n",
    "    result = []\n",
    "    for days, weight in days_and_weights:\n",
    "        for i in range(days):\n",
    "            result = result + [weight/days]\n",
    "    return result\n",
    "\n",
    "# Returns the result of a single convolution (vector scalar product)\n",
    "def single_convolution(data, kernel):\n",
    "    result = 0\n",
    "    for d, k in zip(data, kernel):\n",
    "        result += d * k\n",
    "    return result\n",
    "\n",
    "# Returns a convoluted array.\n",
    "def convolute(data, kernel):\n",
    "    kernel_length = len(kernel)\n",
    "    result = []\n",
    "    \n",
    "    for i in range(kernel_length, len(data)):\n",
    "        data_slice = data[i-kernel_length+1 : i+1]\n",
    "        temp_result = single_convolution(data_slice, kernel)\n",
    "        result += [temp_result]\n",
    "    \n",
    "    return result"
   ]
  },
  {
   "cell_type": "code",
   "execution_count": 7,
   "metadata": {
    "scrolled": false
   },
   "outputs": [
    {
     "data": {
      "image/png": "[encoded data removed]",
      "text/plain": [
       "<Figure size 1800x648 with 1 Axes>"
      ]
     },
     "metadata": {
      "needs_background": "light"
     },
     "output_type": "display_data"
    }
   ],
   "source": [
    "# Get plots\n",
    "fig, axes = plt.subplots(figsize=(25, 9))\n",
    "\n",
    "# Marigns are a little to wide.\n",
    "axes.set_xmargin(0.01)\n",
    "\n",
    "# Set axis labels\n",
    "axes.set_xlabel(\"date\")\n",
    "axes.set_ylabel(\"mood\")\n",
    "\n",
    "# Months on the x axis\n",
    "axes.xaxis.set_major_locator(mdates.MonthLocator())\n",
    "axes.xaxis.set_major_formatter(mdates.DateFormatter(\"%m-%Y\"))\n",
    "\n",
    "# Moods and values on the y axis\n",
    "axes.set_yticks([value[0] for value in moods.values()])\n",
    "axes.set_yticklabels([*moods.keys()])\n",
    "\n",
    "# Plot unedited ratings\n",
    "axes.plot_date(dates, ratings, markersize=3, color = 'silver', alpha=0.75, marker='.')\n",
    "\n",
    "# Get yourself a kernel and edited ratings\n",
    "kernel = custom_kernel([(4, 0.3), (2, 0.7)])\n",
    "kernel_size = len(kernel)\n",
    "smooth_ratings = convolute(ratings, kernel)\n",
    "\n",
    "# Plot edited ratings\n",
    "axes.plot_date(dates[kernel_size:], smooth_ratings, linestyle='-', color='black', linewidth=0.5, markersize=0)\n",
    "\n",
    "# Plot event lines\n",
    "for key, value, counter in zip(events.keys(), events.values(), range(len(events))):\n",
    "    # I don't know how to rotate the text, so I'll just switch between heights\n",
    "    odd = counter % 2\n",
    "    axes.vlines(key, 1, 5, label=value, linewidths=0.8, linestyles='dashed')\n",
    "    axes.annotate(value, xy=(mdates.date2num(key), 4.85 - odd*0.2))\n",
    "\n",
    "# Do the fancy fill\n",
    "for value, lo, hi, color in moods.values():\n",
    "    axes.fill_between(dates[kernel_size:],\n",
    "                      lo,\n",
    "                      [min(hi, smooth_ratings[i]) for i in range(len(smooth_ratings))],\n",
    "                where=[smooth_ratings[i] >= lo for i in range(len(smooth_ratings))],\n",
    "                alpha=0.7,\n",
    "                color=color)\n",
    "\n",
    "# Autoformat the dates nicely\n",
    "fig.autofmt_xdate()"
   ]
  },
  {
   "cell_type": "code",
   "execution_count": null,
   "metadata": {},
   "outputs": [],
   "source": []
  }
 ],
 "metadata": {
  "kernelspec": {
   "display_name": "Python 3",
   "language": "python",
   "name": "python3"
  },
  "language_info": {
   "codemirror_mode": {
    "name": "ipython",
    "version": 3
   },
   "file_extension": ".py",
   "mimetype": "text/x-python",
   "name": "python",
   "nbconvert_exporter": "python",
   "pygments_lexer": "ipython3",
   "version": "3.7.1"
  }
 },
 "nbformat": 4,
 "nbformat_minor": 2
}
